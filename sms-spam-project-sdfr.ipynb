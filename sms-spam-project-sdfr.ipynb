{
 "cells": [
  {
   "cell_type": "code",
   "execution_count": 1,
   "id": "330d44bd",
   "metadata": {
    "_cell_guid": "b1076dfc-b9ad-4769-8c92-a6c4dae69d19",
    "_uuid": "8f2839f25d086af736a60e9eeb907d3b93b6e0e5",
    "execution": {
     "iopub.execute_input": "2023-12-11T14:50:36.713859Z",
     "iopub.status.busy": "2023-12-11T14:50:36.713020Z",
     "iopub.status.idle": "2023-12-11T14:50:39.547693Z",
     "shell.execute_reply": "2023-12-11T14:50:39.546466Z"
    },
    "papermill": {
     "duration": 2.845613,
     "end_time": "2023-12-11T14:50:39.552321",
     "exception": false,
     "start_time": "2023-12-11T14:50:36.706708",
     "status": "completed"
    },
    "tags": []
   },
   "outputs": [
    {
     "name": "stdout",
     "output_type": "stream",
     "text": [
      "Dataset size: 5572\n",
      "Number of features: 5\n"
     ]
    },
    {
     "data": {
      "text/html": [
       "<div>\n",
       "<style scoped>\n",
       "    .dataframe tbody tr th:only-of-type {\n",
       "        vertical-align: middle;\n",
       "    }\n",
       "\n",
       "    .dataframe tbody tr th {\n",
       "        vertical-align: top;\n",
       "    }\n",
       "\n",
       "    .dataframe thead th {\n",
       "        text-align: right;\n",
       "    }\n",
       "</style>\n",
       "<table border=\"1\" class=\"dataframe\">\n",
       "  <thead>\n",
       "    <tr style=\"text-align: right;\">\n",
       "      <th></th>\n",
       "      <th>messages</th>\n",
       "      <th>Label</th>\n",
       "    </tr>\n",
       "  </thead>\n",
       "  <tbody>\n",
       "    <tr>\n",
       "      <th>0</th>\n",
       "      <td>Go until jurong point, crazy.. Available only ...</td>\n",
       "      <td>ham</td>\n",
       "    </tr>\n",
       "    <tr>\n",
       "      <th>1</th>\n",
       "      <td>Ok lar... Joking wif u oni...</td>\n",
       "      <td>ham</td>\n",
       "    </tr>\n",
       "    <tr>\n",
       "      <th>2</th>\n",
       "      <td>Free entry in 2 a wkly comp to win FA Cup fina...</td>\n",
       "      <td>spam</td>\n",
       "    </tr>\n",
       "    <tr>\n",
       "      <th>3</th>\n",
       "      <td>U dun say so early hor... U c already then say...</td>\n",
       "      <td>ham</td>\n",
       "    </tr>\n",
       "    <tr>\n",
       "      <th>4</th>\n",
       "      <td>Nah I don't think he goes to usf, he lives aro...</td>\n",
       "      <td>ham</td>\n",
       "    </tr>\n",
       "    <tr>\n",
       "      <th>...</th>\n",
       "      <td>...</td>\n",
       "      <td>...</td>\n",
       "    </tr>\n",
       "    <tr>\n",
       "      <th>5567</th>\n",
       "      <td>This is the 2nd time we have tried 2 contact u...</td>\n",
       "      <td>spam</td>\n",
       "    </tr>\n",
       "    <tr>\n",
       "      <th>5568</th>\n",
       "      <td>Will Ì_ b going to esplanade fr home?</td>\n",
       "      <td>ham</td>\n",
       "    </tr>\n",
       "    <tr>\n",
       "      <th>5569</th>\n",
       "      <td>Pity, * was in mood for that. So...any other s...</td>\n",
       "      <td>ham</td>\n",
       "    </tr>\n",
       "    <tr>\n",
       "      <th>5570</th>\n",
       "      <td>The guy did some bitching but I acted like i'd...</td>\n",
       "      <td>ham</td>\n",
       "    </tr>\n",
       "    <tr>\n",
       "      <th>5571</th>\n",
       "      <td>Rofl. Its true to its name</td>\n",
       "      <td>ham</td>\n",
       "    </tr>\n",
       "  </tbody>\n",
       "</table>\n",
       "<p>5572 rows × 2 columns</p>\n",
       "</div>"
      ],
      "text/plain": [
       "                                               messages Label\n",
       "0     Go until jurong point, crazy.. Available only ...   ham\n",
       "1                         Ok lar... Joking wif u oni...   ham\n",
       "2     Free entry in 2 a wkly comp to win FA Cup fina...  spam\n",
       "3     U dun say so early hor... U c already then say...   ham\n",
       "4     Nah I don't think he goes to usf, he lives aro...   ham\n",
       "...                                                 ...   ...\n",
       "5567  This is the 2nd time we have tried 2 contact u...  spam\n",
       "5568              Will Ì_ b going to esplanade fr home?   ham\n",
       "5569  Pity, * was in mood for that. So...any other s...   ham\n",
       "5570  The guy did some bitching but I acted like i'd...   ham\n",
       "5571                         Rofl. Its true to its name   ham\n",
       "\n",
       "[5572 rows x 2 columns]"
      ]
     },
     "execution_count": 1,
     "metadata": {},
     "output_type": "execute_result"
    }
   ],
   "source": [
    "import pandas as pd\n",
    "import nltk\n",
    "import numpy as np\n",
    "import re\n",
    "\n",
    "from nltk.corpus import stopwords\n",
    "\n",
    "\n",
    "df = pd.read_csv(\"/kaggle/input/sms-spam-collection-dataset/spam.csv\",encoding='latin-1')\n",
    "df.head(5900)\n",
    "\n",
    "\n",
    "dataset_size = len(df)  \n",
    "num_features = len(df.columns)  \n",
    "\n",
    "print(\"Dataset size:\", dataset_size)\n",
    "print(\"Number of features:\", num_features)\n",
    "\n",
    "df = df[['v2','v1']]\n",
    "df.rename(columns={'v2':'messages','v1':'Label'},inplace=True)\n",
    "df.head(5572)"
   ]
  },
  {
   "cell_type": "markdown",
   "id": "bcc2e2eb",
   "metadata": {
    "papermill": {
     "duration": 0.003943,
     "end_time": "2023-12-11T14:50:39.560847",
     "exception": false,
     "start_time": "2023-12-11T14:50:39.556904",
     "status": "completed"
    },
    "tags": []
   },
   "source": [
    "preprocessing the dataset\n"
   ]
  },
  {
   "cell_type": "code",
   "execution_count": 2,
   "id": "f447b7c7",
   "metadata": {
    "execution": {
     "iopub.execute_input": "2023-12-11T14:50:39.571093Z",
     "iopub.status.busy": "2023-12-11T14:50:39.570720Z",
     "iopub.status.idle": "2023-12-11T14:50:39.579672Z",
     "shell.execute_reply": "2023-12-11T14:50:39.578555Z"
    },
    "papermill": {
     "duration": 0.016698,
     "end_time": "2023-12-11T14:50:39.581742",
     "exception": false,
     "start_time": "2023-12-11T14:50:39.565044",
     "status": "completed"
    },
    "tags": []
   },
   "outputs": [
    {
     "data": {
      "text/plain": [
       "messages    0\n",
       "Label       0\n",
       "dtype: int64"
      ]
     },
     "execution_count": 2,
     "metadata": {},
     "output_type": "execute_result"
    }
   ],
   "source": [
    "df.isnull().sum()"
   ]
  },
  {
   "cell_type": "code",
   "execution_count": 3,
   "id": "77218ee9",
   "metadata": {
    "execution": {
     "iopub.execute_input": "2023-12-11T14:50:39.591978Z",
     "iopub.status.busy": "2023-12-11T14:50:39.591618Z",
     "iopub.status.idle": "2023-12-11T14:50:39.601866Z",
     "shell.execute_reply": "2023-12-11T14:50:39.600924Z"
    },
    "papermill": {
     "duration": 0.017939,
     "end_time": "2023-12-11T14:50:39.604089",
     "exception": false,
     "start_time": "2023-12-11T14:50:39.586150",
     "status": "completed"
    },
    "tags": []
   },
   "outputs": [],
   "source": [
    "Stopwords = set(stopwords.words('english'))\n",
    "def clean_text(text):\n",
    "    text = text.lower()\n",
    "    text = re.sub(r'[^0-9a-zA-Z]',' ',text)\n",
    "    #remove extra spaces\n",
    "    text = re.sub(r'\\s+',' ',text)\n",
    "    #remove stopwords\n",
    "    text = \"\".join (word for word in text.split() if word not in Stopwords)\n",
    "    return text\n",
    "    "
   ]
  },
  {
   "cell_type": "code",
   "execution_count": 4,
   "id": "946ae5b5",
   "metadata": {
    "execution": {
     "iopub.execute_input": "2023-12-11T14:50:39.614450Z",
     "iopub.status.busy": "2023-12-11T14:50:39.614071Z",
     "iopub.status.idle": "2023-12-11T14:50:39.741484Z",
     "shell.execute_reply": "2023-12-11T14:50:39.740364Z"
    },
    "papermill": {
     "duration": 0.13528,
     "end_time": "2023-12-11T14:50:39.743904",
     "exception": false,
     "start_time": "2023-12-11T14:50:39.608624",
     "status": "completed"
    },
    "tags": []
   },
   "outputs": [
    {
     "data": {
      "text/html": [
       "<div>\n",
       "<style scoped>\n",
       "    .dataframe tbody tr th:only-of-type {\n",
       "        vertical-align: middle;\n",
       "    }\n",
       "\n",
       "    .dataframe tbody tr th {\n",
       "        vertical-align: top;\n",
       "    }\n",
       "\n",
       "    .dataframe thead th {\n",
       "        text-align: right;\n",
       "    }\n",
       "</style>\n",
       "<table border=\"1\" class=\"dataframe\">\n",
       "  <thead>\n",
       "    <tr style=\"text-align: right;\">\n",
       "      <th></th>\n",
       "      <th>messages</th>\n",
       "      <th>Label</th>\n",
       "      <th>clean_text</th>\n",
       "    </tr>\n",
       "  </thead>\n",
       "  <tbody>\n",
       "    <tr>\n",
       "      <th>0</th>\n",
       "      <td>Go until jurong point, crazy.. Available only ...</td>\n",
       "      <td>ham</td>\n",
       "      <td>gojurongpointcrazyavailablebugisngreatworldlae...</td>\n",
       "    </tr>\n",
       "    <tr>\n",
       "      <th>1</th>\n",
       "      <td>Ok lar... Joking wif u oni...</td>\n",
       "      <td>ham</td>\n",
       "      <td>oklarjokingwifuoni</td>\n",
       "    </tr>\n",
       "    <tr>\n",
       "      <th>2</th>\n",
       "      <td>Free entry in 2 a wkly comp to win FA Cup fina...</td>\n",
       "      <td>spam</td>\n",
       "      <td>freeentry2wklycompwinfacupfinaltkts21stmay2005...</td>\n",
       "    </tr>\n",
       "    <tr>\n",
       "      <th>3</th>\n",
       "      <td>U dun say so early hor... U c already then say...</td>\n",
       "      <td>ham</td>\n",
       "      <td>udunsayearlyhorucalreadysay</td>\n",
       "    </tr>\n",
       "    <tr>\n",
       "      <th>4</th>\n",
       "      <td>Nah I don't think he goes to usf, he lives aro...</td>\n",
       "      <td>ham</td>\n",
       "      <td>nahthinkgoesusflivesaroundthough</td>\n",
       "    </tr>\n",
       "  </tbody>\n",
       "</table>\n",
       "</div>"
      ],
      "text/plain": [
       "                                            messages Label  \\\n",
       "0  Go until jurong point, crazy.. Available only ...   ham   \n",
       "1                      Ok lar... Joking wif u oni...   ham   \n",
       "2  Free entry in 2 a wkly comp to win FA Cup fina...  spam   \n",
       "3  U dun say so early hor... U c already then say...   ham   \n",
       "4  Nah I don't think he goes to usf, he lives aro...   ham   \n",
       "\n",
       "                                          clean_text  \n",
       "0  gojurongpointcrazyavailablebugisngreatworldlae...  \n",
       "1                                 oklarjokingwifuoni  \n",
       "2  freeentry2wklycompwinfacupfinaltkts21stmay2005...  \n",
       "3                        udunsayearlyhorucalreadysay  \n",
       "4                   nahthinkgoesusflivesaroundthough  "
      ]
     },
     "execution_count": 4,
     "metadata": {},
     "output_type": "execute_result"
    }
   ],
   "source": [
    "df['clean_text']= df['messages'].apply(clean_text)\n",
    "df.head()"
   ]
  },
  {
   "cell_type": "code",
   "execution_count": null,
   "id": "1ae43a4f",
   "metadata": {
    "papermill": {
     "duration": 0.006366,
     "end_time": "2023-12-11T14:50:39.756978",
     "exception": false,
     "start_time": "2023-12-11T14:50:39.750612",
     "status": "completed"
    },
    "tags": []
   },
   "outputs": [],
   "source": []
  },
  {
   "cell_type": "markdown",
   "id": "bd4c3fb2",
   "metadata": {
    "papermill": {
     "duration": 0.007711,
     "end_time": "2023-12-11T14:50:39.772061",
     "exception": false,
     "start_time": "2023-12-11T14:50:39.764350",
     "status": "completed"
    },
    "tags": []
   },
   "source": [
    "input split"
   ]
  },
  {
   "cell_type": "code",
   "execution_count": 5,
   "id": "1cf9b6e3",
   "metadata": {
    "execution": {
     "iopub.execute_input": "2023-12-11T14:50:39.785902Z",
     "iopub.status.busy": "2023-12-11T14:50:39.785334Z",
     "iopub.status.idle": "2023-12-11T14:50:39.791742Z",
     "shell.execute_reply": "2023-12-11T14:50:39.790979Z"
    },
    "papermill": {
     "duration": 0.015118,
     "end_time": "2023-12-11T14:50:39.793993",
     "exception": false,
     "start_time": "2023-12-11T14:50:39.778875",
     "status": "completed"
    },
    "tags": []
   },
   "outputs": [],
   "source": [
    "X = df['clean_text']\n",
    "y = df['Label']"
   ]
  },
  {
   "cell_type": "markdown",
   "id": "e79a2a4e",
   "metadata": {
    "papermill": {
     "duration": 0.005493,
     "end_time": "2023-12-11T14:50:39.804149",
     "exception": false,
     "start_time": "2023-12-11T14:50:39.798656",
     "status": "completed"
    },
    "tags": []
   },
   "source": [
    "model training"
   ]
  },
  {
   "cell_type": "code",
   "execution_count": 6,
   "id": "0dce5dc8",
   "metadata": {
    "execution": {
     "iopub.execute_input": "2023-12-11T14:50:39.815716Z",
     "iopub.status.busy": "2023-12-11T14:50:39.815329Z",
     "iopub.status.idle": "2023-12-11T14:50:39.824594Z",
     "shell.execute_reply": "2023-12-11T14:50:39.823765Z"
    },
    "papermill": {
     "duration": 0.018053,
     "end_time": "2023-12-11T14:50:39.826728",
     "exception": false,
     "start_time": "2023-12-11T14:50:39.808675",
     "status": "completed"
    },
    "tags": []
   },
   "outputs": [],
   "source": [
    "from sklearn.pipeline import Pipeline\n",
    "from sklearn.model_selection import train_test_split, cross_val_score\n",
    "from sklearn.metrics import classification_report\n",
    "from sklearn.feature_extraction.text import CountVectorizer, TfidfVectorizer, TfidfTransformer\n",
    "\n",
    "def classify(model, X, y):\n",
    "    # train test split\n",
    "    x_train, x_test, y_train, y_test = train_test_split(X, y, test_size=0.25, random_state=42, shuffle=True, stratify=y)\n",
    "    # model training\n",
    "    pipeline_model = Pipeline([('vect', CountVectorizer()),\n",
    "                               ('tfidf',TfidfTransformer()),\n",
    "                               ('clf', model)])\n",
    "    pipeline_model.fit(x_train, y_train)\n",
    "    \n",
    "    print('Accuracy:', pipeline_model.score(x_test, y_test)*100)\n",
    "    \n",
    "\n",
    "    #y_pred = pipeline_model.predict(x_test)\n",
    "    # print(classification_report(y_test, y_pred))"
   ]
  },
  {
   "cell_type": "code",
   "execution_count": 7,
   "id": "9aed4080",
   "metadata": {
    "execution": {
     "iopub.execute_input": "2023-12-11T14:50:39.838799Z",
     "iopub.status.busy": "2023-12-11T14:50:39.838259Z",
     "iopub.status.idle": "2023-12-11T14:50:39.944582Z",
     "shell.execute_reply": "2023-12-11T14:50:39.943393Z"
    },
    "papermill": {
     "duration": 0.115126,
     "end_time": "2023-12-11T14:50:39.947663",
     "exception": false,
     "start_time": "2023-12-11T14:50:39.832537",
     "status": "completed"
    },
    "tags": []
   },
   "outputs": [
    {
     "name": "stdout",
     "output_type": "stream",
     "text": [
      "Accuracy: 86.57573582196699\n"
     ]
    }
   ],
   "source": [
    "from sklearn.linear_model import LogisticRegression\n",
    "model = LogisticRegression()\n",
    "classify(model, X, y)"
   ]
  },
  {
   "cell_type": "code",
   "execution_count": 8,
   "id": "bfa26fed",
   "metadata": {
    "execution": {
     "iopub.execute_input": "2023-12-11T14:50:39.964049Z",
     "iopub.status.busy": "2023-12-11T14:50:39.962959Z",
     "iopub.status.idle": "2023-12-11T14:50:40.034215Z",
     "shell.execute_reply": "2023-12-11T14:50:40.033378Z"
    },
    "papermill": {
     "duration": 0.082163,
     "end_time": "2023-12-11T14:50:40.036855",
     "exception": false,
     "start_time": "2023-12-11T14:50:39.954692",
     "status": "completed"
    },
    "tags": []
   },
   "outputs": [
    {
     "name": "stdout",
     "output_type": "stream",
     "text": [
      "Accuracy: 86.71931083991386\n"
     ]
    }
   ],
   "source": [
    "from sklearn.naive_bayes import MultinomialNB\n",
    "model = MultinomialNB()\n",
    "classify(model, X, y)"
   ]
  },
  {
   "cell_type": "code",
   "execution_count": 9,
   "id": "8ed99a76",
   "metadata": {
    "execution": {
     "iopub.execute_input": "2023-12-11T14:50:40.048086Z",
     "iopub.status.busy": "2023-12-11T14:50:40.047740Z",
     "iopub.status.idle": "2023-12-11T14:50:40.810081Z",
     "shell.execute_reply": "2023-12-11T14:50:40.808813Z"
    },
    "papermill": {
     "duration": 0.771806,
     "end_time": "2023-12-11T14:50:40.813589",
     "exception": false,
     "start_time": "2023-12-11T14:50:40.041783",
     "status": "completed"
    },
    "tags": []
   },
   "outputs": [
    {
     "name": "stdout",
     "output_type": "stream",
     "text": [
      "Accuracy: 89.44723618090453\n"
     ]
    }
   ],
   "source": [
    "from sklearn.svm import SVC\n",
    "model = SVC(C=3)\n",
    "classify(model, X, y)"
   ]
  },
  {
   "cell_type": "code",
   "execution_count": 10,
   "id": "c0a85f7d",
   "metadata": {
    "execution": {
     "iopub.execute_input": "2023-12-11T14:50:40.826135Z",
     "iopub.status.busy": "2023-12-11T14:50:40.825287Z",
     "iopub.status.idle": "2023-12-11T14:50:44.068489Z",
     "shell.execute_reply": "2023-12-11T14:50:44.067199Z"
    },
    "papermill": {
     "duration": 3.252493,
     "end_time": "2023-12-11T14:50:44.071215",
     "exception": false,
     "start_time": "2023-12-11T14:50:40.818722",
     "status": "completed"
    },
    "tags": []
   },
   "outputs": [
    {
     "name": "stdout",
     "output_type": "stream",
     "text": [
      "Accuracy: 89.44723618090453\n"
     ]
    }
   ],
   "source": [
    "\n",
    "from sklearn.ensemble import RandomForestClassifier\n",
    "model = RandomForestClassifier()\n",
    "classify(model, X, y)"
   ]
  },
  {
   "cell_type": "code",
   "execution_count": null,
   "id": "dcd53300",
   "metadata": {
    "papermill": {
     "duration": 0.00462,
     "end_time": "2023-12-11T14:50:44.080868",
     "exception": false,
     "start_time": "2023-12-11T14:50:44.076248",
     "status": "completed"
    },
    "tags": []
   },
   "outputs": [],
   "source": []
  }
 ],
 "metadata": {
  "kaggle": {
   "accelerator": "none",
   "dataSources": [
    {
     "datasetId": 483,
     "sourceId": 982,
     "sourceType": "datasetVersion"
    }
   ],
   "dockerImageVersionId": 30587,
   "isGpuEnabled": false,
   "isInternetEnabled": true,
   "language": "python",
   "sourceType": "notebook"
  },
  "kernelspec": {
   "display_name": "Python 3",
   "language": "python",
   "name": "python3"
  },
  "language_info": {
   "codemirror_mode": {
    "name": "ipython",
    "version": 3
   },
   "file_extension": ".py",
   "mimetype": "text/x-python",
   "name": "python",
   "nbconvert_exporter": "python",
   "pygments_lexer": "ipython3",
   "version": "3.10.12"
  },
  "papermill": {
   "default_parameters": {},
   "duration": 11.329495,
   "end_time": "2023-12-11T14:50:44.707161",
   "environment_variables": {},
   "exception": null,
   "input_path": "__notebook__.ipynb",
   "output_path": "__notebook__.ipynb",
   "parameters": {},
   "start_time": "2023-12-11T14:50:33.377666",
   "version": "2.4.0"
  }
 },
 "nbformat": 4,
 "nbformat_minor": 5
}
